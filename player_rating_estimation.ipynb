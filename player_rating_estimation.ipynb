{
 "cells": [
  {
   "cell_type": "code",
   "execution_count": 1,
   "id": "5a076cc9",
   "metadata": {},
   "outputs": [],
   "source": [
    "import pandas as pd\n",
    "import numpy as np"
   ]
  },
  {
   "cell_type": "code",
   "execution_count": 2,
   "id": "22fa6a20",
   "metadata": {},
   "outputs": [],
   "source": [
    "df = pd.read_excel(\"data_formatted.xlsx\")"
   ]
  },
  {
   "cell_type": "code",
   "execution_count": 3,
   "id": "2f597187",
   "metadata": {},
   "outputs": [
    {
     "data": {
      "text/html": [
       "<div>\n",
       "<style scoped>\n",
       "    .dataframe tbody tr th:only-of-type {\n",
       "        vertical-align: middle;\n",
       "    }\n",
       "\n",
       "    .dataframe tbody tr th {\n",
       "        vertical-align: top;\n",
       "    }\n",
       "\n",
       "    .dataframe thead th {\n",
       "        text-align: right;\n",
       "    }\n",
       "</style>\n",
       "<table border=\"1\" class=\"dataframe\">\n",
       "  <thead>\n",
       "    <tr style=\"text-align: right;\">\n",
       "      <th></th>\n",
       "      <th>Apps</th>\n",
       "      <th>Mins</th>\n",
       "      <th>Goals</th>\n",
       "      <th>Assists</th>\n",
       "      <th>Yel</th>\n",
       "      <th>Red</th>\n",
       "      <th>SpG</th>\n",
       "      <th>PS%</th>\n",
       "      <th>AerialsWon</th>\n",
       "      <th>MotM</th>\n",
       "      <th>Rating</th>\n",
       "    </tr>\n",
       "  </thead>\n",
       "  <tbody>\n",
       "    <tr>\n",
       "      <th>0</th>\n",
       "      <td>2</td>\n",
       "      <td>180</td>\n",
       "      <td>2</td>\n",
       "      <td>0</td>\n",
       "      <td>0</td>\n",
       "      <td>0</td>\n",
       "      <td>2.0</td>\n",
       "      <td>83.3</td>\n",
       "      <td>2.0</td>\n",
       "      <td>1</td>\n",
       "      <td>8.47</td>\n",
       "    </tr>\n",
       "    <tr>\n",
       "      <th>1</th>\n",
       "      <td>27</td>\n",
       "      <td>2402</td>\n",
       "      <td>20</td>\n",
       "      <td>14</td>\n",
       "      <td>8</td>\n",
       "      <td>0</td>\n",
       "      <td>4.1</td>\n",
       "      <td>81.4</td>\n",
       "      <td>0.1</td>\n",
       "      <td>10</td>\n",
       "      <td>7.97</td>\n",
       "    </tr>\n",
       "    <tr>\n",
       "      <th>2</th>\n",
       "      <td>29</td>\n",
       "      <td>2503</td>\n",
       "      <td>32</td>\n",
       "      <td>1</td>\n",
       "      <td>2</td>\n",
       "      <td>0</td>\n",
       "      <td>4.8</td>\n",
       "      <td>78.0</td>\n",
       "      <td>1.6</td>\n",
       "      <td>8</td>\n",
       "      <td>7.95</td>\n",
       "    </tr>\n",
       "    <tr>\n",
       "      <th>3</th>\n",
       "      <td>4</td>\n",
       "      <td>318</td>\n",
       "      <td>2</td>\n",
       "      <td>0</td>\n",
       "      <td>0</td>\n",
       "      <td>0</td>\n",
       "      <td>0.5</td>\n",
       "      <td>63.9</td>\n",
       "      <td>2.3</td>\n",
       "      <td>1</td>\n",
       "      <td>7.87</td>\n",
       "    </tr>\n",
       "    <tr>\n",
       "      <th>4</th>\n",
       "      <td>3</td>\n",
       "      <td>270</td>\n",
       "      <td>2</td>\n",
       "      <td>1</td>\n",
       "      <td>0</td>\n",
       "      <td>0</td>\n",
       "      <td>4.7</td>\n",
       "      <td>61.0</td>\n",
       "      <td>3.7</td>\n",
       "      <td>0</td>\n",
       "      <td>7.82</td>\n",
       "    </tr>\n",
       "  </tbody>\n",
       "</table>\n",
       "</div>"
      ],
      "text/plain": [
       "   Apps  Mins  Goals  Assists  Yel  Red  SpG   PS%  AerialsWon  MotM  Rating\n",
       "0     2   180      2        0    0    0  2.0  83.3         2.0     1    8.47\n",
       "1    27  2402     20       14    8    0  4.1  81.4         0.1    10    7.97\n",
       "2    29  2503     32        1    2    0  4.8  78.0         1.6     8    7.95\n",
       "3     4   318      2        0    0    0  0.5  63.9         2.3     1    7.87\n",
       "4     3   270      2        1    0    0  4.7  61.0         3.7     0    7.82"
      ]
     },
     "execution_count": 3,
     "metadata": {},
     "output_type": "execute_result"
    }
   ],
   "source": [
    "df.head()"
   ]
  },
  {
   "cell_type": "code",
   "execution_count": 4,
   "id": "7b614fa6",
   "metadata": {},
   "outputs": [],
   "source": [
    "#separate the other attributes from the predicting attribute\n",
    "x = df.drop('Rating',axis=1)\n",
    "#separte the predicting attribute into Y for model training \n",
    "y = df['Rating']"
   ]
  },
  {
   "cell_type": "code",
   "execution_count": 5,
   "id": "8608e86f",
   "metadata": {},
   "outputs": [
    {
     "data": {
      "text/plain": [
       "2840"
      ]
     },
     "execution_count": 5,
     "metadata": {},
     "output_type": "execute_result"
    }
   ],
   "source": [
    "x.shape[0]"
   ]
  },
  {
   "cell_type": "code",
   "execution_count": 6,
   "id": "de000382",
   "metadata": {},
   "outputs": [
    {
     "data": {
      "text/plain": [
       "2840"
      ]
     },
     "execution_count": 6,
     "metadata": {},
     "output_type": "execute_result"
    }
   ],
   "source": [
    "y.shape[0]"
   ]
  },
  {
   "cell_type": "code",
   "execution_count": 7,
   "id": "bc2b160a",
   "metadata": {},
   "outputs": [
    {
     "data": {
      "text/plain": [
       "pandas.core.frame.DataFrame"
      ]
     },
     "execution_count": 7,
     "metadata": {},
     "output_type": "execute_result"
    }
   ],
   "source": [
    "type(x)"
   ]
  },
  {
   "cell_type": "code",
   "execution_count": 8,
   "id": "3d2a0806",
   "metadata": {},
   "outputs": [
    {
     "data": {
      "text/plain": [
       "pandas.core.series.Series"
      ]
     },
     "execution_count": 8,
     "metadata": {},
     "output_type": "execute_result"
    }
   ],
   "source": [
    "type(y)"
   ]
  },
  {
   "cell_type": "code",
   "execution_count": 9,
   "id": "dd6d066e",
   "metadata": {},
   "outputs": [
    {
     "data": {
      "text/plain": [
       "2840"
      ]
     },
     "execution_count": 9,
     "metadata": {},
     "output_type": "execute_result"
    }
   ],
   "source": [
    "y.shape[0]"
   ]
  },
  {
   "cell_type": "code",
   "execution_count": 10,
   "id": "6f2b4cc3",
   "metadata": {},
   "outputs": [],
   "source": [
    "# importing train_test_split from sklearn\n",
    "from sklearn.model_selection import train_test_split\n",
    "# splitting the data\n",
    "x_train, x_test, y_train, y_test = train_test_split(x, y, test_size = 0.2, random_state = 42 , shuffle=True)"
   ]
  },
  {
   "cell_type": "markdown",
   "id": "6fc6363c",
   "metadata": {},
   "source": [
    "### Linear Regression"
   ]
  },
  {
   "cell_type": "code",
   "execution_count": 11,
   "id": "ae2edc94",
   "metadata": {},
   "outputs": [
    {
     "data": {
      "text/plain": [
       "LinearRegression()"
      ]
     },
     "execution_count": 11,
     "metadata": {},
     "output_type": "execute_result"
    }
   ],
   "source": [
    "# importing module\n",
    "from sklearn.linear_model import LinearRegression\n",
    "# creating an object of LinearRegression class\n",
    "LR = LinearRegression()\n",
    "# fitting the training data\n",
    "LR.fit(x_train,y_train)"
   ]
  },
  {
   "cell_type": "code",
   "execution_count": 12,
   "id": "73275ebb",
   "metadata": {},
   "outputs": [],
   "source": [
    "LR_y_prediction =  LR.predict(x_test)\n",
    "#y_prediction"
   ]
  },
  {
   "cell_type": "code",
   "execution_count": 13,
   "id": "373e4069",
   "metadata": {},
   "outputs": [
    {
     "name": "stdout",
     "output_type": "stream",
     "text": [
      "r2 socre is  0.611\n",
      "mean_sqrd_error is== 0.044\n",
      "root_mean_squared error is== 0.21\n"
     ]
    }
   ],
   "source": [
    "# importing r2_score module\n",
    "from sklearn.metrics import r2_score\n",
    "from sklearn.metrics import mean_squared_error\n",
    "# predicting the accuracy score\n",
    "LR_r2score = np.round(r2_score(y_test,LR_y_prediction), decimals = 3)\n",
    "print('r2 socre is ', LR_r2score)\n",
    "LR_MSE = np.round(mean_squared_error(y_test,LR_y_prediction), decimals = 3)\n",
    "print('mean_sqrd_error is==',LR_MSE)\n",
    "LR_RMSE = np.round(np.sqrt(mean_squared_error(y_test,LR_y_prediction)), decimals = 3)\n",
    "print('root_mean_squared error is==',LR_RMSE)"
   ]
  },
  {
   "cell_type": "markdown",
   "id": "2ded72e0",
   "metadata": {},
   "source": [
    "### Polynomial"
   ]
  },
  {
   "cell_type": "code",
   "execution_count": 14,
   "id": "2e937acc",
   "metadata": {},
   "outputs": [
    {
     "data": {
      "text/plain": [
       "Pipeline(steps=[('polynomialfeatures', PolynomialFeatures(degree=3)),\n",
       "                ('linearregression', LinearRegression())])"
      ]
     },
     "execution_count": 14,
     "metadata": {},
     "output_type": "execute_result"
    }
   ],
   "source": [
    "from sklearn.preprocessing import PolynomialFeatures\n",
    "from sklearn.pipeline import make_pipeline\n",
    "from sklearn.linear_model import LinearRegression\n",
    "degree=3\n",
    "polyreg=make_pipeline(PolynomialFeatures(degree),LinearRegression())\n",
    "polyreg.fit(x_train,y_train)"
   ]
  },
  {
   "cell_type": "code",
   "execution_count": 15,
   "id": "139829b6",
   "metadata": {},
   "outputs": [],
   "source": [
    "PR_y_prediction =  polyreg.predict(x_test)\n",
    "#y_prediction"
   ]
  },
  {
   "cell_type": "code",
   "execution_count": 16,
   "id": "558c9aef",
   "metadata": {},
   "outputs": [
    {
     "name": "stdout",
     "output_type": "stream",
     "text": [
      "r2 socre is  0.386\n",
      "mean_sqrd_error is== 0.07\n",
      "root_mean_squared error is== 0.264\n"
     ]
    }
   ],
   "source": [
    "# predicting the accuracy score\n",
    "PR_r2score = np.round(r2_score(y_test,PR_y_prediction), decimals = 3)\n",
    "print('r2 socre is ', PR_r2score)\n",
    "PR_MSE = np.round(mean_squared_error(y_test,PR_y_prediction), decimals = 3)\n",
    "print('mean_sqrd_error is==',PR_MSE)\n",
    "PR_RMSE = np.round(np.sqrt(mean_squared_error(y_test,PR_y_prediction)), decimals = 3)\n",
    "print('root_mean_squared error is==',PR_RMSE)"
   ]
  },
  {
   "cell_type": "markdown",
   "id": "a49fda57",
   "metadata": {},
   "source": [
    "### Decision tree regressor"
   ]
  },
  {
   "cell_type": "code",
   "execution_count": 17,
   "id": "0145a14b",
   "metadata": {},
   "outputs": [],
   "source": [
    "from sklearn import tree\n",
    "clf = tree.DecisionTreeRegressor()\n",
    "clf = clf.fit(x_train,y_train)"
   ]
  },
  {
   "cell_type": "code",
   "execution_count": 18,
   "id": "03f4f90f",
   "metadata": {},
   "outputs": [],
   "source": [
    "DT_y_prediction =  clf.predict(x_test)\n",
    "#y_prediction"
   ]
  },
  {
   "cell_type": "code",
   "execution_count": 19,
   "id": "60c568f5",
   "metadata": {},
   "outputs": [
    {
     "name": "stdout",
     "output_type": "stream",
     "text": [
      "r2 socre is  0.309\n",
      "mean_sqrd_error is== 0.079\n",
      "root_mean_squared error is== 0.28\n"
     ]
    }
   ],
   "source": [
    "# predicting the accuracy score\n",
    "DT_r2score = np.round(r2_score(y_test,DT_y_prediction), decimals = 3)\n",
    "print('r2 socre is ', DT_r2score)\n",
    "DT_MSE = np.round(mean_squared_error(y_test,DT_y_prediction), decimals = 3)\n",
    "print('mean_sqrd_error is==',DT_MSE)\n",
    "DT_RMSE = np.round(np.sqrt(mean_squared_error(y_test,DT_y_prediction)), decimals = 3)\n",
    "print('root_mean_squared error is==',DT_RMSE)"
   ]
  },
  {
   "cell_type": "markdown",
   "id": "1a2697eb",
   "metadata": {},
   "source": [
    "### Random forest"
   ]
  },
  {
   "cell_type": "code",
   "execution_count": 20,
   "id": "3a7c226f",
   "metadata": {},
   "outputs": [
    {
     "data": {
      "text/plain": [
       "RandomForestRegressor(random_state=0)"
      ]
     },
     "execution_count": 20,
     "metadata": {},
     "output_type": "execute_result"
    }
   ],
   "source": [
    "# Fitting Random Forest Regression to the dataset\n",
    "# import the regressor\n",
    "from sklearn.ensemble import RandomForestRegressor\n",
    "# create regressor object\n",
    "regressor = RandomForestRegressor(n_estimators = 100, random_state = 0)\n",
    "# fit the regressor with x and y data\n",
    "regressor.fit(x_train,y_train)"
   ]
  },
  {
   "cell_type": "code",
   "execution_count": 21,
   "id": "a6ae7798",
   "metadata": {},
   "outputs": [],
   "source": [
    "RF_y_prediction =  regressor.predict(x_test)\n",
    "#y_prediction"
   ]
  },
  {
   "cell_type": "code",
   "execution_count": 22,
   "id": "f5ba236b",
   "metadata": {},
   "outputs": [
    {
     "name": "stdout",
     "output_type": "stream",
     "text": [
      "r2 socre is  0.686\n",
      "mean_sqrd_error is== 0.036\n",
      "root_mean_squared error is== 0.189\n"
     ]
    }
   ],
   "source": [
    "# predicting the accuracy score\n",
    "RF_r2score = np.round(r2_score(y_test,RF_y_prediction), decimals = 3)\n",
    "print('r2 socre is ', RF_r2score)\n",
    "RF_MSE = np.round(mean_squared_error(y_test,RF_y_prediction), decimals = 3)\n",
    "print('mean_sqrd_error is==',RF_MSE)\n",
    "RF_RMSE = np.round(np.sqrt(mean_squared_error(y_test,RF_y_prediction)), decimals = 3)\n",
    "print('root_mean_squared error is==',RF_RMSE)"
   ]
  },
  {
   "cell_type": "markdown",
   "id": "481430ed",
   "metadata": {},
   "source": [
    "### LGBM"
   ]
  },
  {
   "cell_type": "code",
   "execution_count": 23,
   "id": "5c874c77",
   "metadata": {},
   "outputs": [
    {
     "name": "stdout",
     "output_type": "stream",
     "text": [
      "Requirement already satisfied: lightgbm in c:\\users\\92349\\anaconda3\\lib\\site-packages (3.3.2)\n",
      "Requirement already satisfied: scikit-learn!=0.22.0 in c:\\users\\92349\\anaconda3\\lib\\site-packages (from lightgbm) (0.24.1)\n",
      "Requirement already satisfied: scipy in c:\\users\\92349\\anaconda3\\lib\\site-packages (from lightgbm) (1.6.2)\n",
      "Requirement already satisfied: wheel in c:\\users\\92349\\anaconda3\\lib\\site-packages (from lightgbm) (0.36.2)\n",
      "Requirement already satisfied: numpy in c:\\users\\92349\\anaconda3\\lib\\site-packages (from lightgbm) (1.20.1)\n",
      "Requirement already satisfied: threadpoolctl>=2.0.0 in c:\\users\\92349\\anaconda3\\lib\\site-packages (from scikit-learn!=0.22.0->lightgbm) (2.1.0)\n",
      "Requirement already satisfied: joblib>=0.11 in c:\\users\\92349\\anaconda3\\lib\\site-packages (from scikit-learn!=0.22.0->lightgbm) (1.0.1)\n",
      "Note: you may need to restart the kernel to use updated packages.\n"
     ]
    }
   ],
   "source": [
    "\n",
    "pip install lightgbm"
   ]
  },
  {
   "cell_type": "code",
   "execution_count": 24,
   "id": "b7ae2bf4",
   "metadata": {},
   "outputs": [],
   "source": [
    "from lightgbm import LGBMRegressor"
   ]
  },
  {
   "cell_type": "code",
   "execution_count": 25,
   "id": "554fb9af",
   "metadata": {},
   "outputs": [],
   "source": [
    "model = LGBMRegressor()"
   ]
  },
  {
   "cell_type": "code",
   "execution_count": 26,
   "id": "31d50ead",
   "metadata": {},
   "outputs": [
    {
     "data": {
      "text/plain": [
       "LGBMRegressor()"
      ]
     },
     "execution_count": 26,
     "metadata": {},
     "output_type": "execute_result"
    }
   ],
   "source": [
    "model.fit(x_train,y_train)"
   ]
  },
  {
   "cell_type": "code",
   "execution_count": 27,
   "id": "ea3fdc00",
   "metadata": {},
   "outputs": [],
   "source": [
    "LGBM_y_prediction =  model.predict(x_test)\n",
    "#y_prediction"
   ]
  },
  {
   "cell_type": "code",
   "execution_count": 28,
   "id": "2864c939",
   "metadata": {},
   "outputs": [
    {
     "name": "stdout",
     "output_type": "stream",
     "text": [
      "r2 socre is  0.678\n",
      "mean_sqrd_error is== 0.037\n",
      "root_mean_squared error is== 0.191\n"
     ]
    }
   ],
   "source": [
    "# predicting the accuracy score\n",
    "LGBM_r2score = np.round(r2_score(y_test,LGBM_y_prediction), decimals = 3)\n",
    "print('r2 socre is ', LGBM_r2score)\n",
    "LGBM_MSE = np.round(mean_squared_error(y_test,LGBM_y_prediction), decimals = 3)\n",
    "print('mean_sqrd_error is==',LGBM_MSE)\n",
    "LGBM_RMSE = np.round(np.sqrt(mean_squared_error(y_test,LGBM_y_prediction)), decimals = 3)\n",
    "print('root_mean_squared error is==',LGBM_RMSE)"
   ]
  },
  {
   "cell_type": "markdown",
   "id": "3c3ed386",
   "metadata": {},
   "source": [
    "### XGBoost"
   ]
  },
  {
   "cell_type": "code",
   "execution_count": 29,
   "id": "16b26376",
   "metadata": {},
   "outputs": [],
   "source": [
    "from xgboost import XGBRegressor"
   ]
  },
  {
   "cell_type": "code",
   "execution_count": 30,
   "id": "1c4a25ba",
   "metadata": {},
   "outputs": [],
   "source": [
    "model_1 = XGBRegressor(objective='reg:squarederror')\n",
    "#objective='reg:squarederror'"
   ]
  },
  {
   "cell_type": "code",
   "execution_count": 31,
   "id": "192e9f9c",
   "metadata": {},
   "outputs": [
    {
     "data": {
      "text/plain": [
       "XGBRegressor(base_score=0.5, booster='gbtree', colsample_bylevel=1,\n",
       "             colsample_bynode=1, colsample_bytree=1, enable_categorical=False,\n",
       "             gamma=0, gpu_id=-1, importance_type=None,\n",
       "             interaction_constraints='', learning_rate=0.300000012,\n",
       "             max_delta_step=0, max_depth=6, min_child_weight=1, missing=nan,\n",
       "             monotone_constraints='()', n_estimators=100, n_jobs=8,\n",
       "             num_parallel_tree=1, predictor='auto', random_state=0, reg_alpha=0,\n",
       "             reg_lambda=1, scale_pos_weight=1, subsample=1, tree_method='exact',\n",
       "             validate_parameters=1, verbosity=None)"
      ]
     },
     "execution_count": 31,
     "metadata": {},
     "output_type": "execute_result"
    }
   ],
   "source": [
    "model_1.fit(x_train,y_train)"
   ]
  },
  {
   "cell_type": "code",
   "execution_count": 32,
   "id": "2e871097",
   "metadata": {},
   "outputs": [],
   "source": [
    "XG_y_prediction =  model.predict(x_test)\n",
    "#y_prediction"
   ]
  },
  {
   "cell_type": "code",
   "execution_count": 33,
   "id": "20995519",
   "metadata": {},
   "outputs": [
    {
     "name": "stdout",
     "output_type": "stream",
     "text": [
      "r2 socre is  0.678\n",
      "mean_sqrd_error is== 0.037\n",
      "root_mean_squared error is== 0.191\n"
     ]
    }
   ],
   "source": [
    "# predicting the accuracy score\n",
    "XG_r2score = np.round(r2_score(y_test,XG_y_prediction), decimals = 3)\n",
    "print('r2 socre is ', XG_r2score)\n",
    "XG_MSE = np.round(mean_squared_error(y_test,XG_y_prediction), decimals = 3)\n",
    "print('mean_sqrd_error is==',XG_MSE)\n",
    "XG_RMSE = np.round(np.sqrt(mean_squared_error(y_test,XG_y_prediction)), decimals = 3)\n",
    "print('root_mean_squared error is==',XG_RMSE)"
   ]
  },
  {
   "cell_type": "markdown",
   "id": "da651049",
   "metadata": {},
   "source": [
    "### Support vector regressor"
   ]
  },
  {
   "cell_type": "code",
   "execution_count": 34,
   "id": "382b1a8b",
   "metadata": {},
   "outputs": [],
   "source": [
    "from sklearn.svm import SVR\n",
    "model_2 = SVR = SVR(gamma='scale', C=1.0, epsilon=0.2)"
   ]
  },
  {
   "cell_type": "code",
   "execution_count": 35,
   "id": "2484234d",
   "metadata": {},
   "outputs": [
    {
     "data": {
      "text/plain": [
       "SVR(epsilon=0.2)"
      ]
     },
     "execution_count": 35,
     "metadata": {},
     "output_type": "execute_result"
    }
   ],
   "source": [
    "model_2.fit(x_train, y_train)"
   ]
  },
  {
   "cell_type": "code",
   "execution_count": 36,
   "id": "cfa2411e",
   "metadata": {},
   "outputs": [],
   "source": [
    "SVR_y_prediction =  model.predict(x_test)\n",
    "#y_prediction"
   ]
  },
  {
   "cell_type": "code",
   "execution_count": 37,
   "id": "ff732a95",
   "metadata": {},
   "outputs": [
    {
     "name": "stdout",
     "output_type": "stream",
     "text": [
      "r2 socre is  0.678\n",
      "mean_sqrd_error is== 0.037\n",
      "root_mean_squared error is== 0.191\n"
     ]
    }
   ],
   "source": [
    "# predicting the accuracy score\n",
    "SVR_r2score = np.round(r2_score(y_test,SVR_y_prediction), decimals = 3)\n",
    "print('r2 socre is ', SVR_r2score)\n",
    "SVR_MSE = np.round(mean_squared_error(y_test,SVR_y_prediction), decimals = 3)\n",
    "print('mean_sqrd_error is==',SVR_MSE)\n",
    "SVR_RMSE = np.round(np.sqrt(mean_squared_error(y_test,SVR_y_prediction)), decimals = 3)\n",
    "print('root_mean_squared error is==',SVR_RMSE)"
   ]
  },
  {
   "cell_type": "code",
   "execution_count": 38,
   "id": "f391679e",
   "metadata": {},
   "outputs": [],
   "source": [
    "data = {'R2 Score':[LR_r2score , PR_r2score , DT_r2score , RF_r2score , LGBM_r2score , XG_r2score , SVR_r2score],\n",
    "        'MSE':[LR_MSE , PR_MSE , DT_MSE , RF_MSE , LGBM_MSE , XG_MSE , SVR_MSE],\n",
    "       'RMSE':[LR_RMSE , PR_RMSE , DT_RMSE , RF_RMSE , LGBM_RMSE , XG_RMSE , SVR_RMSE]}"
   ]
  },
  {
   "cell_type": "code",
   "execution_count": 39,
   "id": "42e15777",
   "metadata": {},
   "outputs": [],
   "source": [
    "df = pd.DataFrame(data , index = ['Linear Regression', 'Polynomial Regression' , 'Decision Tree Regressor' ,\n",
    "                                  'Random Forest Regressor' , 'LGBM Regressor' , 'XGBoost Regressor' ,\n",
    "                                  'Support Vector Machine Regressor'])\n",
    "df.index.names = ['Model']\n",
    "df.columns.name = df.index.name\n",
    "df.index.name = None\n",
    "\n",
    "\n"
   ]
  },
  {
   "cell_type": "code",
   "execution_count": 40,
   "id": "a4d8e90e",
   "metadata": {},
   "outputs": [
    {
     "data": {
      "text/html": [
       "<style  type=\"text/css\" >\n",
       "    #T_d4148_  {\n",
       "          border: 5px solid black;\n",
       "    }    #T_d4148_ tbody td {\n",
       "          border: 2px solid grey;\n",
       "    }    #T_d4148_ th {\n",
       "          border: 1px solid grey;\n",
       "    }    #T_d4148_  {\n",
       "    }</style><table id=\"T_d4148_\" ><thead>    <tr>        <th class=\"index_name level0\" >Model</th>        <th class=\"col_heading level0 col0\" >R2 Score</th>        <th class=\"col_heading level0 col1\" >MSE</th>        <th class=\"col_heading level0 col2\" >RMSE</th>    </tr></thead><tbody>\n",
       "                <tr>\n",
       "                        <th id=\"T_d4148_level0_row0\" class=\"row_heading level0 row0\" >Linear Regression</th>\n",
       "                        <td id=\"T_d4148_row0_col0\" class=\"data row0 col0\" >0.611000</td>\n",
       "                        <td id=\"T_d4148_row0_col1\" class=\"data row0 col1\" >0.044000</td>\n",
       "                        <td id=\"T_d4148_row0_col2\" class=\"data row0 col2\" >0.210000</td>\n",
       "            </tr>\n",
       "            <tr>\n",
       "                        <th id=\"T_d4148_level0_row1\" class=\"row_heading level0 row1\" >Polynomial Regression</th>\n",
       "                        <td id=\"T_d4148_row1_col0\" class=\"data row1 col0\" >0.386000</td>\n",
       "                        <td id=\"T_d4148_row1_col1\" class=\"data row1 col1\" >0.070000</td>\n",
       "                        <td id=\"T_d4148_row1_col2\" class=\"data row1 col2\" >0.264000</td>\n",
       "            </tr>\n",
       "            <tr>\n",
       "                        <th id=\"T_d4148_level0_row2\" class=\"row_heading level0 row2\" >Decision Tree Regressor</th>\n",
       "                        <td id=\"T_d4148_row2_col0\" class=\"data row2 col0\" >0.309000</td>\n",
       "                        <td id=\"T_d4148_row2_col1\" class=\"data row2 col1\" >0.079000</td>\n",
       "                        <td id=\"T_d4148_row2_col2\" class=\"data row2 col2\" >0.280000</td>\n",
       "            </tr>\n",
       "            <tr>\n",
       "                        <th id=\"T_d4148_level0_row3\" class=\"row_heading level0 row3\" >Random Forest Regressor</th>\n",
       "                        <td id=\"T_d4148_row3_col0\" class=\"data row3 col0\" >0.686000</td>\n",
       "                        <td id=\"T_d4148_row3_col1\" class=\"data row3 col1\" >0.036000</td>\n",
       "                        <td id=\"T_d4148_row3_col2\" class=\"data row3 col2\" >0.189000</td>\n",
       "            </tr>\n",
       "            <tr>\n",
       "                        <th id=\"T_d4148_level0_row4\" class=\"row_heading level0 row4\" >LGBM Regressor</th>\n",
       "                        <td id=\"T_d4148_row4_col0\" class=\"data row4 col0\" >0.678000</td>\n",
       "                        <td id=\"T_d4148_row4_col1\" class=\"data row4 col1\" >0.037000</td>\n",
       "                        <td id=\"T_d4148_row4_col2\" class=\"data row4 col2\" >0.191000</td>\n",
       "            </tr>\n",
       "            <tr>\n",
       "                        <th id=\"T_d4148_level0_row5\" class=\"row_heading level0 row5\" >XGBoost Regressor</th>\n",
       "                        <td id=\"T_d4148_row5_col0\" class=\"data row5 col0\" >0.678000</td>\n",
       "                        <td id=\"T_d4148_row5_col1\" class=\"data row5 col1\" >0.037000</td>\n",
       "                        <td id=\"T_d4148_row5_col2\" class=\"data row5 col2\" >0.191000</td>\n",
       "            </tr>\n",
       "            <tr>\n",
       "                        <th id=\"T_d4148_level0_row6\" class=\"row_heading level0 row6\" >Support Vector Machine Regressor</th>\n",
       "                        <td id=\"T_d4148_row6_col0\" class=\"data row6 col0\" >0.678000</td>\n",
       "                        <td id=\"T_d4148_row6_col1\" class=\"data row6 col1\" >0.037000</td>\n",
       "                        <td id=\"T_d4148_row6_col2\" class=\"data row6 col2\" >0.191000</td>\n",
       "            </tr>\n",
       "    </tbody></table>"
      ],
      "text/plain": [
       "<pandas.io.formats.style.Styler at 0x1a37f44d400>"
      ]
     },
     "execution_count": 40,
     "metadata": {},
     "output_type": "execute_result"
    }
   ],
   "source": [
    "df.style.set_table_styles([{'selector' : '','props' : [('border','5px solid black')]} , {\"selector\": \"tbody td\", \"props\": [(\"border\", \"2px solid grey\")]} , \n",
    "                           {\"selector\": \"th\", \"props\": [(\"border\", \"1px solid grey\")]} , \n",
    "                          {'text-align': 'left'}])\n",
    "\n"
   ]
  }
 ],
 "metadata": {
  "kernelspec": {
   "display_name": "Python 3",
   "language": "python",
   "name": "python3"
  },
  "language_info": {
   "codemirror_mode": {
    "name": "ipython",
    "version": 3
   },
   "file_extension": ".py",
   "mimetype": "text/x-python",
   "name": "python",
   "nbconvert_exporter": "python",
   "pygments_lexer": "ipython3",
   "version": "3.8.8"
  }
 },
 "nbformat": 4,
 "nbformat_minor": 5
}
